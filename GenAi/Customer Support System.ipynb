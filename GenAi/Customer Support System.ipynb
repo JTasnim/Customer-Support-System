{
 "cells": [
  {
   "cell_type": "code",
   "execution_count": 49,
   "id": "80fca44d-5dec-47e3-9bfe-a97a273cf04c",
   "metadata": {},
   "outputs": [],
   "source": [
    "import requests\n",
    "import re\n",
    "import urllib.request\n",
    "from bs4 import BeautifulSoup\n",
    "from collections import deque\n",
    "from html.parser import HTMLParser\n",
    "from urllib.parse import urlparse\n",
    "import os\n",
    "\n",
    "# Regex pattern to match a URL\n",
    "HTTP_URL_PATTERN = r'^http[s]*://.+'\n",
    "\n",
    "domain = \"www.reddit.com/\" # <- put your domain to be crawled\n",
    "full_url = \"https://www.reddit.com/\" # <- put your domain to be crawled with https or http\n",
    "\n",
    "# Create a class to parse the HTML and get the hyperlinks\n",
    "class HyperlinkParser(HTMLParser):\n",
    "    def __init__(self):\n",
    "        super().__init__()\n",
    "        # Create a list to store the hyperlinks\n",
    "        self.hyperlinks = []\n",
    "\n",
    "    # Override the HTMLParser's handle_starttag method to get the hyperlinks\n",
    "    def handle_starttag(self, tag, attrs):\n",
    "        attrs = dict(attrs)\n",
    "\n",
    "        # If the tag is an anchor tag and it has an href attribute, add the href attribute to the list of hyperlinks\n",
    "        if tag == \"a\" and \"href\" in attrs:\n",
    "            self.hyperlinks.append(attrs[\"href\"])"
   ]
  },
  {
   "cell_type": "code",
   "execution_count": 50,
   "id": "4338243c-b281-4808-a889-b5a6c19eaade",
   "metadata": {},
   "outputs": [],
   "source": [
    "# Function to get the hyperlinks from a URL\n",
    "def get_hyperlinks(url):\n",
    "\n",
    "    # Try to open the URL and read the HTML\n",
    "    try:\n",
    "        # Open the URL and read the HTML\n",
    "        with urllib.request.urlopen(url) as response:\n",
    "\n",
    "            # If the response is not HTML, return an empty list\n",
    "            if not response.info().get('Content-Type').startswith(\"text/html\"):\n",
    "                return []\n",
    "\n",
    "            # Decode the HTML\n",
    "            html = response.read().decode('utf-8')\n",
    "    except Exception as e:\n",
    "        print(e)\n",
    "        return []\n",
    "\n",
    "    # Create the HTML Parser and then Parse the HTML to get hyperlinks\n",
    "    parser = HyperlinkParser()\n",
    "    parser.feed(html)\n",
    "\n",
    "    return parser.hyperlinks"
   ]
  },
  {
   "cell_type": "code",
   "execution_count": 51,
   "id": "3ef8eb61-3742-4d16-a6e7-9b5ef0b519ac",
   "metadata": {},
   "outputs": [],
   "source": [
    "# Function to get the hyperlinks from a URL that are within the same domain\n",
    "def get_domain_hyperlinks(local_domain, url):\n",
    "    clean_links = []\n",
    "    for link in set(get_hyperlinks(url)):\n",
    "        clean_link = None\n",
    "\n",
    "        # If the link is a URL, check if it is within the same domain\n",
    "        if re.search(HTTP_URL_PATTERN, link):\n",
    "            # Parse the URL and check if the domain is the same\n",
    "            url_obj = urlparse(link)\n",
    "            if url_obj.netloc == local_domain:\n",
    "                clean_link = link\n",
    "\n",
    "        # If the link is not a URL, check if it is a relative link\n",
    "        else:\n",
    "            if link.startswith(\"/\"):\n",
    "                link = link[1:]\n",
    "            elif link.startswith(\"#\") or link.startswith(\"mailto:\"):\n",
    "                continue\n",
    "            clean_link = \"https://\" + local_domain + \"/\" + link\n",
    "\n",
    "        if clean_link is not None:\n",
    "            if clean_link.endswith(\"/\"):\n",
    "                clean_link = clean_link[:-1]\n",
    "            clean_links.append(clean_link)\n",
    "\n",
    "    # Return the list of hyperlinks that are within the same domain\n",
    "    return list(set(clean_links))"
   ]
  },
  {
   "cell_type": "code",
   "execution_count": 52,
   "id": "fee8c14b-42d3-41c1-8478-1b9961adb544",
   "metadata": {},
   "outputs": [
    {
     "name": "stdout",
     "output_type": "stream",
     "text": [
      "https://www.reddit.com/\n",
      "https://www.reddit.com/search/?q=%22Tim+Sweeney%22&type=link&source=trending&cId=3e327f1a-0a58-42b4-b88f-4fe11a967977&iId=13cf5e18-8643-4512-b367-510e83e59df0\n",
      "https://www.reddit.com/search/?q=%22Tim+Sweeney%22&type=sr&source=trending&cId=3e327f1a-0a58-42b4-b88f-4fe11a967977&iId=13cf5e18-8643-4512-b367-510e83e59df0\n",
      "https://www.reddit.com/r/sofi_bagholders\n",
      "https://www.reddit.com/user/Stoneteer\n",
      "https://www.reddit.com/r/sportsbook/comments/1fu5j7w/mlb_betting_and_picks_10224_wednesday\n",
      "https://www.reddit.com/r/sportsbook/comments/wd38a8/general_discussionquestions\n",
      "https://www.reddit.com/r/sportsbook/comments/1bbus9y/north_carolina_sportsbooks_megathread\n",
      "https://www.reddit.com/r/sportsbook/?f=flair_name%3A%22State%20Sportsbooks%22\n",
      "https://www.reddit.com/r/sportsbook/about/rules\n"
     ]
    }
   ],
   "source": [
    "def crawl(url):\n",
    "    # Parse the URL and get the domain\n",
    "    local_domain = urlparse(url).netloc\n",
    "\n",
    "    # Create a queue to store the URLs to crawl\n",
    "    queue = deque([url])\n",
    "\n",
    "    # Create a set to store the URLs that have already been seen (no duplicates)\n",
    "    seen = set([url])\n",
    "\n",
    "    # Create a directory to store the text files\n",
    "    if not os.path.exists(\"text/\"):\n",
    "            os.mkdir(\"text/\")\n",
    "\n",
    "    if not os.path.exists(\"text/\"+local_domain+\"/\"):\n",
    "            os.mkdir(\"text/\" + local_domain + \"/\")\n",
    "\n",
    "    # Create a directory to store the csv files\n",
    "    if not os.path.exists(\"processed\"):\n",
    "            os.mkdir(\"processed\")\n",
    "\n",
    "    # While the queue is not empty, continue crawling\n",
    "    q_limit = 10\n",
    "    count = 0\n",
    "    while queue:\n",
    "        if count==q_limit:\n",
    "            break\n",
    "        count += 1\n",
    "        # Get the next URL from the queue\n",
    "        url = queue.pop()\n",
    "        print(url) # for debugging and to see the progress\n",
    "\n",
    "        # Save text from the url to a <url>.txt file\n",
    "        with open('text/'+local_domain+'/'+url[8:].replace(\"/\", \"_\") + \".txt\", \"w\", encoding=\"UTF-8\") as f:\n",
    "\n",
    "            # Get the text from the URL using BeautifulSoup\n",
    "            soup = BeautifulSoup(requests.get(url).text, \"html.parser\")\n",
    "\n",
    "            # Get the text but remove the tags\n",
    "            text = soup.get_text()\n",
    "\n",
    "            # If the crawler gets to a page that requires JavaScript, it will stop the crawl\n",
    "            if (\"You need to enable JavaScript to run this app.\" in text):\n",
    "                print(\"Unable to parse page \" + url + \" due to JavaScript being required\")\n",
    "\n",
    "            # Otherwise, write the text to the file in the text directory\n",
    "            f.write(text)\n",
    "\n",
    "        # Get the hyperlinks from the URL and add them to the queue\n",
    "        for link in get_domain_hyperlinks(local_domain, url):\n",
    "            if link not in seen:\n",
    "                queue.append(link)\n",
    "                seen.add(link)\n",
    "\n",
    "crawl(full_url)"
   ]
  },
  {
   "cell_type": "code",
   "execution_count": 53,
   "id": "d9908126-f5c5-4149-8352-f566bf1cd9ca",
   "metadata": {},
   "outputs": [],
   "source": [
    "def remove_newlines(serie):\n",
    "    serie = serie.str.replace('\\n', ' ')\n",
    "    serie = serie.str.replace('\\\\n', ' ')\n",
    "    serie = serie.str.replace('  ', ' ')\n",
    "    serie = serie.str.replace('  ', ' ')\n",
    "    return serie"
   ]
  },
  {
   "cell_type": "code",
   "execution_count": 54,
   "id": "a9079bed-cfa1-48ed-ad65-2b0e88f6d4e9",
   "metadata": {},
   "outputs": [
    {
     "data": {
      "text/html": [
       "<div>\n",
       "<style scoped>\n",
       "    .dataframe tbody tr th:only-of-type {\n",
       "        vertical-align: middle;\n",
       "    }\n",
       "\n",
       "    .dataframe tbody tr th {\n",
       "        vertical-align: top;\n",
       "    }\n",
       "\n",
       "    .dataframe thead th {\n",
       "        text-align: right;\n",
       "    }\n",
       "</style>\n",
       "<table border=\"1\" class=\"dataframe\">\n",
       "  <thead>\n",
       "    <tr style=\"text-align: right;\">\n",
       "      <th></th>\n",
       "      <th>fname</th>\n",
       "      <th>text</th>\n",
       "    </tr>\n",
       "  </thead>\n",
       "  <tbody>\n",
       "    <tr>\n",
       "      <th>0</th>\n",
       "      <td>com r 80s ?f=flair name%3A%22Film%22</td>\n",
       "      <td>com r 80s ?f=flair name%3A%22Film%22.  Reddit ...</td>\n",
       "    </tr>\n",
       "    <tr>\n",
       "      <th>1</th>\n",
       "      <td>com user TinolangEsophagus</td>\n",
       "      <td>com user TinolangEsophagus.  Reddit - Dive int...</td>\n",
       "    </tr>\n",
       "    <tr>\n",
       "      <th>2</th>\n",
       "      <td>com r olympics comments 1fcmak5 australian bre...</td>\n",
       "      <td>com r olympics comments 1fcmak5 australian bre...</td>\n",
       "    </tr>\n",
       "    <tr>\n",
       "      <th>3</th>\n",
       "      <td>com r sportsbook comments 1bbus9y north caroli...</td>\n",
       "      <td>com r sportsbook comments 1bbus9y north caroli...</td>\n",
       "    </tr>\n",
       "    <tr>\n",
       "      <th>4</th>\n",
       "      <td>com r fantasyfootball comments 18amo4g cj stro...</td>\n",
       "      <td>com r fantasyfootball comments 18amo4g cj stro...</td>\n",
       "    </tr>\n",
       "  </tbody>\n",
       "</table>\n",
       "</div>"
      ],
      "text/plain": [
       "                                               fname  \\\n",
       "0               com r 80s ?f=flair name%3A%22Film%22   \n",
       "1                         com user TinolangEsophagus   \n",
       "2  com r olympics comments 1fcmak5 australian bre...   \n",
       "3  com r sportsbook comments 1bbus9y north caroli...   \n",
       "4  com r fantasyfootball comments 18amo4g cj stro...   \n",
       "\n",
       "                                                text  \n",
       "0  com r 80s ?f=flair name%3A%22Film%22.  Reddit ...  \n",
       "1  com user TinolangEsophagus.  Reddit - Dive int...  \n",
       "2  com r olympics comments 1fcmak5 australian bre...  \n",
       "3  com r sportsbook comments 1bbus9y north caroli...  \n",
       "4  com r fantasyfootball comments 18amo4g cj stro...  "
      ]
     },
     "execution_count": 54,
     "metadata": {},
     "output_type": "execute_result"
    }
   ],
   "source": [
    "import pandas as pd\n",
    "\n",
    "# Create a list to store the text files\n",
    "texts=[]\n",
    "\n",
    "# Get all the text files in the text directory\n",
    "for file in os.listdir(\"text/\" + domain + \"/\"):\n",
    "\n",
    "    # Open the file and read the text\n",
    "    with open(\"text/\" + domain + \"/\" + file, \"r\", encoding=\"UTF-8\") as f:\n",
    "        text = f.read()\n",
    "\n",
    "        # Omit the first 11 lines and the last 4 lines, then replace -, _, and #update with spaces.\n",
    "        texts.append((file[11:-4].replace('-',' ').replace('_', ' ').replace('#update',''), text))\n",
    "\n",
    "# Create a dataframe from the list of texts\n",
    "df = pd.DataFrame(texts, columns = ['fname', 'text'])\n",
    "\n",
    "# Set the text column to be the raw text with the newlines removed\n",
    "df['text'] = df.fname + \". \" + remove_newlines(df.text)\n",
    "df.to_csv('processed/scraped.csv')\n",
    "df.head()"
   ]
  },
  {
   "cell_type": "code",
   "execution_count": 55,
   "id": "d4d6faf4-77a2-4866-a297-ddfe22a87f1d",
   "metadata": {},
   "outputs": [
    {
     "data": {
      "text/plain": [
       "<Axes: >"
      ]
     },
     "execution_count": 55,
     "metadata": {},
     "output_type": "execute_result"
    },
    {
     "data": {
      "image/png": "[encoded data removed]",
      "text/plain": [
       "<Figure size 640x480 with 1 Axes>"
      ]
     },
     "metadata": {},
     "output_type": "display_data"
    }
   ],
   "source": [
    "import tiktoken\n",
    "\n",
    "# Load the cl100k_base tokenizer which is designed to work with the ada-002 model\n",
    "tokenizer = tiktoken.get_encoding(\"cl100k_base\")\n",
    "\n",
    "df = pd.read_csv('processed/scraped.csv', index_col=0)\n",
    "df.columns = ['title', 'text']\n",
    "\n",
    "# Tokenize the text and save the number of tokens to a new column\n",
    "df['n_tokens'] = df.text.apply(lambda x: len(tokenizer.encode(x)))\n",
    "\n",
    "# Visualize the distribution of the number of tokens per row using a histogram\n",
    "df.n_tokens.hist()"
   ]
  },
  {
   "cell_type": "code",
   "execution_count": 56,
   "id": "814d880a-8493-4a30-ab88-875772e9ae14",
   "metadata": {},
   "outputs": [],
   "source": [
    "max_tokens = 500\n",
    "\n",
    "# Function to split the text into chunks of a maximum number of tokens\n",
    "def split_into_many(text, max_tokens = max_tokens):\n",
    "\n",
    "    # Split the text into sentences\n",
    "    sentences = text.split('. ')\n",
    "\n",
    "    # Get the number of tokens for each sentence\n",
    "    n_tokens = [len(tokenizer.encode(\" \" + sentence)) for sentence in sentences]\n",
    "\n",
    "    chunks = []\n",
    "    tokens_so_far = 0\n",
    "    chunk = []\n",
    "\n",
    "    # Loop through the sentences and tokens joined together in a tuple\n",
    "    for sentence, token in zip(sentences, n_tokens):\n",
    "\n",
    "        # If the number of tokens so far plus the number of tokens in the current sentence is greater\n",
    "        # than the max number of tokens, then add the chunk to the list of chunks and reset\n",
    "        # the chunk and tokens so far\n",
    "        if tokens_so_far + token > max_tokens:\n",
    "            chunks.append(\". \".join(chunk) + \".\")\n",
    "            chunk = []\n",
    "            tokens_so_far = 0\n",
    "\n",
    "        # If the number of tokens in the current sentence is greater than the max number of\n",
    "        # tokens, go to the next sentence\n",
    "        if token > max_tokens:\n",
    "            continue\n",
    "\n",
    "        # Otherwise, add the sentence to the chunk and add the number of tokens to the total\n",
    "        chunk.append(sentence)\n",
    "        tokens_so_far += token + 1\n",
    "\n",
    "    return chunks\n",
    "\n",
    "\n",
    "shortened = []\n",
    "\n",
    "# Loop through the dataframe\n",
    "for row in df.iterrows():\n",
    "\n",
    "    # If the text is None, go to the next row\n",
    "    if row[1]['text'] is None:\n",
    "        continue\n",
    "\n",
    "    # If the number of tokens is greater than the max number of tokens, split the text into chunks\n",
    "    if row[1]['n_tokens'] > max_tokens:\n",
    "        shortened += split_into_many(row[1]['text'])\n",
    "\n",
    "    # Otherwise, add the text to the list of shortened texts\n",
    "    else:\n",
    "        shortened.append( row[1]['text'] )"
   ]
  },
  {
   "cell_type": "code",
   "execution_count": 57,
   "id": "53875b8f-40cd-4f89-80a6-f9dc17a10412",
   "metadata": {},
   "outputs": [
    {
     "data": {
      "text/plain": [
       "<Axes: >"
      ]
     },
     "execution_count": 57,
     "metadata": {},
     "output_type": "execute_result"
    },
    {
     "data": {
      "image/png": "[encoded data removed]",
      "text/plain": [
       "<Figure size 640x480 with 1 Axes>"
      ]
     },
     "metadata": {},
     "output_type": "display_data"
    }
   ],
   "source": [
    "df = pd.DataFrame(shortened, columns = ['text'])\n",
    "df['n_tokens'] = df.text.apply(lambda x: len(tokenizer.encode(x)))\n",
    "df.n_tokens.hist()"
   ]
  },
  {
   "cell_type": "code",
   "execution_count": 58,
   "id": "fa5e92a8-fa40-46c3-af58-6afa2e6467b9",
   "metadata": {},
   "outputs": [
    {
     "name": "stdout",
     "output_type": "stream",
     "text": [
      "                                                  text  n_tokens\n",
      "0    com r 80s ?f=flair name%3A%22Film%22.  Reddit ...       316\n",
      "1    com user TinolangEsophagus.  Reddit - Dive int...       463\n",
      "2        Members  Online   • What's the most unusua...       463\n",
      "3        Members  Online   • obey traffic laws at a...       390\n",
      "4    com r olympics comments 1fcmak5 australian bre...       211\n",
      "..                                                 ...       ...\n",
      "481  The goal is to at once embrace, and poke fun a...       153\n",
      "482  com search ?q=%22Tim+Sweeney%22&type=sr&source...       479\n",
      "483      r/Games  r/Games  members · online   The g...       469\n",
      "484      r/pcmasterrace  r/pcmasterrace  members · ...       446\n",
      "485  com r BridgeCrew top.  Reddit - Dive into anyt...       204\n",
      "\n",
      "[486 rows x 2 columns]\n"
     ]
    }
   ],
   "source": [
    "print (df)"
   ]
  },
  {
   "cell_type": "code",
   "execution_count": 59,
   "id": "236eee1a-f51a-4523-9042-211d5ca6c413",
   "metadata": {},
   "outputs": [
    {
     "data": {
      "text/html": [
       "<div>\n",
       "<style scoped>\n",
       "    .dataframe tbody tr th:only-of-type {\n",
       "        vertical-align: middle;\n",
       "    }\n",
       "\n",
       "    .dataframe tbody tr th {\n",
       "        vertical-align: top;\n",
       "    }\n",
       "\n",
       "    .dataframe thead th {\n",
       "        text-align: right;\n",
       "    }\n",
       "</style>\n",
       "<table border=\"1\" class=\"dataframe\">\n",
       "  <thead>\n",
       "    <tr style=\"text-align: right;\">\n",
       "      <th></th>\n",
       "      <th>text</th>\n",
       "      <th>n_tokens</th>\n",
       "      <th>embeddings</th>\n",
       "    </tr>\n",
       "  </thead>\n",
       "  <tbody>\n",
       "    <tr>\n",
       "      <th>0</th>\n",
       "      <td>com r 80s ?f=flair name%3A%22Film%22.  Reddit ...</td>\n",
       "      <td>316</td>\n",
       "      <td>[0.0023201224394142628, -0.020780807361006737,...</td>\n",
       "    </tr>\n",
       "    <tr>\n",
       "      <th>1</th>\n",
       "      <td>com user TinolangEsophagus.  Reddit - Dive int...</td>\n",
       "      <td>463</td>\n",
       "      <td>[0.014561430551111698, 0.0049392483197152615, ...</td>\n",
       "    </tr>\n",
       "    <tr>\n",
       "      <th>2</th>\n",
       "      <td>Members  Online   • What's the most unusua...</td>\n",
       "      <td>463</td>\n",
       "      <td>[-0.013696198351681232, -0.016805235296487808,...</td>\n",
       "    </tr>\n",
       "    <tr>\n",
       "      <th>3</th>\n",
       "      <td>Members  Online   • obey traffic laws at a...</td>\n",
       "      <td>390</td>\n",
       "      <td>[0.007803275249898434, -0.003955921158194542, ...</td>\n",
       "    </tr>\n",
       "    <tr>\n",
       "      <th>4</th>\n",
       "      <td>com r olympics comments 1fcmak5 australian bre...</td>\n",
       "      <td>211</td>\n",
       "      <td>[-0.025677474215626717, 0.008606936782598495, ...</td>\n",
       "    </tr>\n",
       "  </tbody>\n",
       "</table>\n",
       "</div>"
      ],
      "text/plain": [
       "                                                text  n_tokens  \\\n",
       "0  com r 80s ?f=flair name%3A%22Film%22.  Reddit ...       316   \n",
       "1  com user TinolangEsophagus.  Reddit - Dive int...       463   \n",
       "2      Members  Online   • What's the most unusua...       463   \n",
       "3      Members  Online   • obey traffic laws at a...       390   \n",
       "4  com r olympics comments 1fcmak5 australian bre...       211   \n",
       "\n",
       "                                          embeddings  \n",
       "0  [0.0023201224394142628, -0.020780807361006737,...  \n",
       "1  [0.014561430551111698, 0.0049392483197152615, ...  \n",
       "2  [-0.013696198351681232, -0.016805235296487808,...  \n",
       "3  [0.007803275249898434, -0.003955921158194542, ...  \n",
       "4  [-0.025677474215626717, 0.008606936782598495, ...  "
      ]
     },
     "execution_count": 59,
     "metadata": {},
     "output_type": "execute_result"
    }
   ],
   "source": [
    "import openai\n",
    "import os\n",
    "import requests\n",
    "\n",
    "# Load environment variables from the .env file\n",
    "with open(\"/Users/jubaidatasnim/GenAi/.env\") as env:\n",
    "    for line in env:\n",
    "        key, value = line.strip().split(\"=\")\n",
    "        os.environ[key] = value\n",
    "\n",
    "# Set the OpenAI API key from environment variables\n",
    "\n",
    "openai.api_key = os.getenv('API_KEY')\n",
    "openai.api_key = api_key\n",
    "# Example usage of embeddings (assuming you have a DataFrame called df)\n",
    "df['embeddings'] = df.text.apply(lambda x: openai.Embedding.create(input=x, engine='text-embedding-ada-002')['data'][0]['embedding'])\n",
    "\n",
    "# Save the embeddings to a CSV file\n",
    "df.to_csv('processed/embeddings.csv')\n",
    "\n",
    "# Display the first few rows\n",
    "df.head()\n"
   ]
  },
  {
   "cell_type": "code",
   "execution_count": 60,
   "id": "a164bd38-4dd6-4208-9b14-098a8f5c2500",
   "metadata": {},
   "outputs": [
    {
     "data": {
      "text/html": [
       "<div>\n",
       "<style scoped>\n",
       "    .dataframe tbody tr th:only-of-type {\n",
       "        vertical-align: middle;\n",
       "    }\n",
       "\n",
       "    .dataframe tbody tr th {\n",
       "        vertical-align: top;\n",
       "    }\n",
       "\n",
       "    .dataframe thead th {\n",
       "        text-align: right;\n",
       "    }\n",
       "</style>\n",
       "<table border=\"1\" class=\"dataframe\">\n",
       "  <thead>\n",
       "    <tr style=\"text-align: right;\">\n",
       "      <th></th>\n",
       "      <th>text</th>\n",
       "      <th>n_tokens</th>\n",
       "      <th>embeddings</th>\n",
       "    </tr>\n",
       "  </thead>\n",
       "  <tbody>\n",
       "    <tr>\n",
       "      <th>0</th>\n",
       "      <td>com r 80s ?f=flair name%3A%22Film%22.  Reddit ...</td>\n",
       "      <td>316</td>\n",
       "      <td>[0.0023201224394142628, -0.020780807361006737,...</td>\n",
       "    </tr>\n",
       "    <tr>\n",
       "      <th>1</th>\n",
       "      <td>com user TinolangEsophagus.  Reddit - Dive int...</td>\n",
       "      <td>463</td>\n",
       "      <td>[0.014561430551111698, 0.0049392483197152615, ...</td>\n",
       "    </tr>\n",
       "    <tr>\n",
       "      <th>2</th>\n",
       "      <td>Members  Online   • What's the most unusua...</td>\n",
       "      <td>463</td>\n",
       "      <td>[-0.013696198351681232, -0.016805235296487808,...</td>\n",
       "    </tr>\n",
       "    <tr>\n",
       "      <th>3</th>\n",
       "      <td>Members  Online   • obey traffic laws at a...</td>\n",
       "      <td>390</td>\n",
       "      <td>[0.007803275249898434, -0.003955921158194542, ...</td>\n",
       "    </tr>\n",
       "    <tr>\n",
       "      <th>4</th>\n",
       "      <td>com r olympics comments 1fcmak5 australian bre...</td>\n",
       "      <td>211</td>\n",
       "      <td>[-0.025677474215626717, 0.008606936782598495, ...</td>\n",
       "    </tr>\n",
       "  </tbody>\n",
       "</table>\n",
       "</div>"
      ],
      "text/plain": [
       "                                                text  n_tokens  \\\n",
       "0  com r 80s ?f=flair name%3A%22Film%22.  Reddit ...       316   \n",
       "1  com user TinolangEsophagus.  Reddit - Dive int...       463   \n",
       "2      Members  Online   • What's the most unusua...       463   \n",
       "3      Members  Online   • obey traffic laws at a...       390   \n",
       "4  com r olympics comments 1fcmak5 australian bre...       211   \n",
       "\n",
       "                                          embeddings  \n",
       "0  [0.0023201224394142628, -0.020780807361006737,...  \n",
       "1  [0.014561430551111698, 0.0049392483197152615, ...  \n",
       "2  [-0.013696198351681232, -0.016805235296487808,...  \n",
       "3  [0.007803275249898434, -0.003955921158194542, ...  \n",
       "4  [-0.025677474215626717, 0.008606936782598495, ...  "
      ]
     },
     "execution_count": 60,
     "metadata": {},
     "output_type": "execute_result"
    }
   ],
   "source": [
    "import pandas as pd\n",
    "import numpy as np\n",
    "from openai.embeddings_utils import distances_from_embeddings\n",
    "\n",
    "df=pd.read_csv('processed/embeddings.csv', index_col=0)\n",
    "df['embeddings'] = df['embeddings'].apply(eval).apply(np.array)\n",
    "\n",
    "df.head()"
   ]
  },
  {
   "cell_type": "code",
   "execution_count": 61,
   "id": "f20b87d4-7dde-4c76-ad57-7dcf4aaae388",
   "metadata": {},
   "outputs": [],
   "source": [
    "def create_context(\n",
    "    question, df, max_len=1800, size=\"ada\"\n",
    "):\n",
    "    \"\"\"\n",
    "    Create a context for a question by finding the most similar context from the dataframe\n",
    "    \"\"\"\n",
    "    # Get the embeddings for the question\n",
    "    q_embeddings = openai.Embedding.create(input=question, engine='text-embedding-ada-002')['data'][0]['embedding']\n",
    "    # Get the distances from the embeddings\n",
    "    df['distances'] = distances_from_embeddings(q_embeddings, df['embeddings'].values, distance_metric='cosine')\n",
    "    \n",
    "    returns = []\n",
    "    cur_len = 0\n",
    "\n",
    "    # Sort by distance and add the text to the context until the context is too long\n",
    "    for i, row in df.sort_values('distances', ascending=True).iterrows():\n",
    "\n",
    "        # Add the length of the text to the current length\n",
    "        cur_len += row['n_tokens'] + 4\n",
    "\n",
    "        # If the context is too long, break\n",
    "        if cur_len > max_len:\n",
    "            break\n",
    "\n",
    "        # Else add it to the text that is being returned\n",
    "        returns.append(row[\"text\"])\n",
    "\n",
    "    # Return the context\n",
    "    return \"\\n\\n###\\n\\n\".join(returns)"
   ]
  },
  {
   "cell_type": "code",
   "execution_count": 62,
   "id": "912bc12e-4eaa-4fe7-a4c8-77b7f1afb02e",
   "metadata": {},
   "outputs": [],
   "source": [
    "def answer_question(\n",
    "    df,\n",
    "    model=\"gpt-3.5-turbo\",\n",
    "    question=\"Am I allowed to publish model outputs to Twitter, without a human review?\",\n",
    "    max_len=1800,\n",
    "    size=\"ada\",\n",
    "    debug=False,\n",
    "    max_tokens=150,\n",
    "    stop_sequence=None\n",
    "):\n",
    "    \"\"\"\n",
    "    Answer a question based on the most similar context from the dataframe texts\n",
    "    \"\"\"\n",
    "    context = create_context(\n",
    "        question,\n",
    "        df,\n",
    "        max_len=max_len,\n",
    "        size=size,\n",
    "    )\n",
    "    # If debug, print the raw model response\n",
    "    content = \"Context: \" + context + \"\\n\\n---\\n\\nQuestion: \" + question + \"\\nAnswer:\"\n",
    "    if debug:\n",
    "        print(\"Context:\\n\" + content)\n",
    "        print(\"\\n\\n\")\n",
    "    try:\n",
    "        # Create a chat completion using the question and context\n",
    "        response = openai.ChatCompletion.create(\n",
    "            model=\"gpt-3.5-turbo\",\n",
    "            messages=[\n",
    "                {\"role\": \"user\", \"content\": content}\n",
    "            ],\n",
    "            temperature=0,\n",
    "            max_tokens=12,\n",
    "            top_p=1,\n",
    "            frequency_penalty=0,\n",
    "            presence_penalty=0,\n",
    "            stop=stop_sequence,\n",
    "        )\n",
    "        return response.choices[0].message.content\n",
    "    except Exception as e:\n",
    "        print(e)\n",
    "        return \"\""
   ]
  },
  {
   "cell_type": "code",
   "execution_count": 63,
   "id": "ee40b97d-5bcb-49a6-8fc6-0bc183333e1a",
   "metadata": {},
   "outputs": [
    {
     "data": {
      "text/plain": [
       "0      [0.0023201224394142628, -0.020780807361006737,...\n",
       "1      [0.014561430551111698, 0.0049392483197152615, ...\n",
       "2      [-0.013696198351681232, -0.016805235296487808,...\n",
       "3      [0.007803275249898434, -0.003955921158194542, ...\n",
       "4      [-0.025677474215626717, 0.008606936782598495, ...\n",
       "                             ...                        \n",
       "481    [-0.00021810721955262125, -0.03150461241602897...\n",
       "482    [-0.009907223284244537, 0.0005647385260090232,...\n",
       "483    [-0.0009849796770140529, -0.000923418439924717...\n",
       "484    [0.01330981682986021, 0.0023028715513646603, -...\n",
       "485    [-0.002005205024033785, -0.009879055432975292,...\n",
       "Name: embeddings, Length: 486, dtype: object"
      ]
     },
     "execution_count": 63,
     "metadata": {},
     "output_type": "execute_result"
    }
   ],
   "source": [
    "df['embeddings']"
   ]
  },
  {
   "cell_type": "code",
   "execution_count": 64,
   "id": "3ce29ef1-84b6-46ef-a649-f7ce269822e7",
   "metadata": {
    "scrolled": true
   },
   "outputs": [
    {
     "data": {
      "text/plain": [
       "'Reddit is a social news aggregation, web content rating, and'"
      ]
     },
     "execution_count": 64,
     "metadata": {},
     "output_type": "execute_result"
    }
   ],
   "source": [
    "answer_question(df, question=\"what is reddit\", debug=False)"
   ]
  },
  {
   "cell_type": "code",
   "execution_count": 65,
   "id": "402d3a21-a61b-4acc-a665-17fdc613db25",
   "metadata": {},
   "outputs": [
    {
     "data": {
      "text/plain": [
       "'Today is the day when an asteroid the size of 64'"
      ]
     },
     "execution_count": 65,
     "metadata": {},
     "output_type": "execute_result"
    }
   ],
   "source": [
    "answer_question(df, question=\"What day is today\", debug=False)"
   ]
  },
  {
   "cell_type": "code",
   "execution_count": 66,
   "id": "9b939c4c-b1d7-413c-af8a-c4a98b61ee0d",
   "metadata": {},
   "outputs": [
    {
     "data": {
      "text/plain": [
       "'Our newest embeddings model is GPT-4.'"
      ]
     },
     "execution_count": 66,
     "metadata": {},
     "output_type": "execute_result"
    }
   ],
   "source": [
    "\n",
    "answer_question(df, question=\"What is our newest embeddings model?\", debug=False)\n"
   ]
  },
  {
   "cell_type": "code",
   "execution_count": 67,
   "id": "fbbafafb-1f8f-4600-bc9b-dd6c1a9aae6d",
   "metadata": {},
   "outputs": [
    {
     "data": {
      "text/plain": [
       "'ChatGPT is a language model developed by OpenAI that'"
      ]
     },
     "execution_count": 67,
     "metadata": {},
     "output_type": "execute_result"
    }
   ],
   "source": [
    "\n",
    "answer_question(df, question=\"What is ChatGPT?\", debug=False)"
   ]
  },
  {
   "cell_type": "code",
   "execution_count": 68,
   "id": "2aac84ac-3c7a-44ed-9188-a7c86d600ebf",
   "metadata": {},
   "outputs": [
    {
     "name": "stdout",
     "output_type": "stream",
     "text": [
      "Requirement already satisfied: openai in /Users/jubaidatasnim/.pyenv/versions/3.9.9/lib/python3.9/site-packages (0.28.0)\n",
      "Requirement already satisfied: requests>=2.20 in /Users/jubaidatasnim/.pyenv/versions/3.9.9/lib/python3.9/site-packages (from openai) (2.32.3)\n",
      "Requirement already satisfied: tqdm in /Users/jubaidatasnim/.pyenv/versions/3.9.9/lib/python3.9/site-packages (from openai) (4.66.5)\n",
      "Requirement already satisfied: aiohttp in /Users/jubaidatasnim/.pyenv/versions/3.9.9/lib/python3.9/site-packages (from openai) (3.10.5)\n",
      "Requirement already satisfied: charset-normalizer<4,>=2 in /Users/jubaidatasnim/.pyenv/versions/3.9.9/lib/python3.9/site-packages (from requests>=2.20->openai) (3.3.2)\n",
      "Requirement already satisfied: idna<4,>=2.5 in /Users/jubaidatasnim/.pyenv/versions/3.9.9/lib/python3.9/site-packages (from requests>=2.20->openai) (3.10)\n",
      "Requirement already satisfied: urllib3<3,>=1.21.1 in /Users/jubaidatasnim/.pyenv/versions/3.9.9/lib/python3.9/site-packages (from requests>=2.20->openai) (2.2.3)\n",
      "Requirement already satisfied: certifi>=2017.4.17 in /Users/jubaidatasnim/.pyenv/versions/3.9.9/lib/python3.9/site-packages (from requests>=2.20->openai) (2024.8.30)\n",
      "Requirement already satisfied: aiohappyeyeballs>=2.3.0 in /Users/jubaidatasnim/.pyenv/versions/3.9.9/lib/python3.9/site-packages (from aiohttp->openai) (2.4.0)\n",
      "Requirement already satisfied: aiosignal>=1.1.2 in /Users/jubaidatasnim/.pyenv/versions/3.9.9/lib/python3.9/site-packages (from aiohttp->openai) (1.3.1)\n",
      "Requirement already satisfied: attrs>=17.3.0 in /Users/jubaidatasnim/.pyenv/versions/3.9.9/lib/python3.9/site-packages (from aiohttp->openai) (24.2.0)\n",
      "Requirement already satisfied: frozenlist>=1.1.1 in /Users/jubaidatasnim/.pyenv/versions/3.9.9/lib/python3.9/site-packages (from aiohttp->openai) (1.4.1)\n",
      "Requirement already satisfied: multidict<7.0,>=4.5 in /Users/jubaidatasnim/.pyenv/versions/3.9.9/lib/python3.9/site-packages (from aiohttp->openai) (6.1.0)\n",
      "Requirement already satisfied: yarl<2.0,>=1.0 in /Users/jubaidatasnim/.pyenv/versions/3.9.9/lib/python3.9/site-packages (from aiohttp->openai) (1.11.1)\n",
      "Requirement already satisfied: async-timeout<5.0,>=4.0 in /Users/jubaidatasnim/.pyenv/versions/3.9.9/lib/python3.9/site-packages (from aiohttp->openai) (4.0.3)\n",
      "Requirement already satisfied: typing-extensions>=4.1.0 in /Users/jubaidatasnim/.pyenv/versions/3.9.9/lib/python3.9/site-packages (from multidict<7.0,>=4.5->aiohttp->openai) (4.12.2)\n",
      "Note: you may need to restart the kernel to use updated packages.\n"
     ]
    }
   ],
   "source": [
    "pip install openai\n"
   ]
  },
  {
   "cell_type": "code",
   "execution_count": null,
   "id": "de2e0e72-3ed8-4722-851f-2e91864450a5",
   "metadata": {},
   "outputs": [],
   "source": []
  }
 ],
 "metadata": {
  "kernelspec": {
   "display_name": "Python 3 (ipykernel)",
   "language": "python",
   "name": "python3"
  },
  "language_info": {
   "codemirror_mode": {
    "name": "ipython",
    "version": 3
   },
   "file_extension": ".py",
   "mimetype": "text/x-python",
   "name": "python",
   "nbconvert_exporter": "python",
   "pygments_lexer": "ipython3",
   "version": "3.9.9"
  }
 },
 "nbformat": 4,
 "nbformat_minor": 5
}
